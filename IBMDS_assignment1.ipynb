{
 "cells": [
  {
   "cell_type": "markdown",
   "id": "591b1491-d90f-4454-b3ce-295edea3480b",
   "metadata": {},
   "source": [
    "# Data Science Tools and Ecosystem\n"
   ]
  },
  {
   "cell_type": "markdown",
   "id": "4bd015bf-27e9-4c55-a395-70267af388d3",
   "metadata": {},
   "source": [
    "## Introduction\n",
    "In this notebook, we summarize some of the key tools, languages, and libraries used in Data Science. We will also demonstrate basic arithmetic operations using Python.\n"
   ]
  },
  {
   "cell_type": "markdown",
   "id": "e9bf8afc-7eb5-41f7-902d-11e38e6142a4",
   "metadata": {},
   "source": [
    "## Data Science Languages\n",
    "Some of the popular languages that Data Scientists use are:\n",
    "\n",
    "1. Python  \n",
    "2. R  \n",
    "3. SQL  \n",
    "4. Java  \n",
    "5. Julia  \n"
   ]
  },
  {
   "cell_type": "markdown",
   "id": "440d7351-a7e2-4965-858f-dcac409e7db9",
   "metadata": {},
   "source": [
    "## Data Science Libraries\n",
    "Some of the commonly used libraries used by Data Scientists include:\n",
    "\n",
    "1. Pandas  \n",
    "2. NumPy  \n",
    "3. Matplotlib  \n",
    "4. Scikit-learn  \n",
    "5. TensorFlow  \n"
   ]
  },
  {
   "cell_type": "markdown",
   "id": "9088925c-49d2-45b0-a096-96925f8a22c6",
   "metadata": {},
   "source": [
    "## Table of Data Science Tools\n",
    "\n",
    "| Category         | Tool/Technology     |\n",
    "|------------------|---------------------|\n",
    "| Data Analysis     | Pandas              |\n",
    "| Machine Learning  | Scikit-learn        |\n",
    "| Deep Learning     | TensorFlow, PyTorch |\n",
    "| Data Visualization| Matplotlib, Seaborn |\n",
    "| Big Data          | Apache Spark        |\n"
   ]
  },
  {
   "cell_type": "markdown",
   "id": "215bc462-6f5d-43be-8f32-b60f3d897977",
   "metadata": {},
   "source": [
    "## Introducing Arithmetic Expression Examples\n",
    "Below are a few examples of evaluating arithmetic expressions in Python.\n"
   ]
  },
  {
   "cell_type": "markdown",
   "id": "741bcf24-98a9-4015-9035-5017ecd8e061",
   "metadata": {},
   "source": [
    "##  Multiply and Add Numbers"
   ]
  },
  {
   "cell_type": "code",
   "execution_count": 8,
   "id": "95229240-7ddf-464e-aaf4-0bd26fb9f382",
   "metadata": {},
   "outputs": [
    {
     "name": "stdout",
     "output_type": "stream",
     "text": [
      "Result: 17\n"
     ]
    }
   ],
   "source": [
    "# This will multiply 3 and 4 and then add 5 to the result\n",
    "\n",
    "result = (3 * 4) + 5\n",
    "print(\"Result:\", result)\n"
   ]
  },
  {
   "cell_type": "markdown",
   "id": "758f7abb-9f14-41db-8c8f-014a5b48ee86",
   "metadata": {},
   "source": [
    "## Convert Minutes to Hours"
   ]
  },
  {
   "cell_type": "code",
   "execution_count": 6,
   "id": "fdfc7f16-61a7-43f2-9947-6a1d237c1505",
   "metadata": {},
   "outputs": [
    {
     "name": "stdout",
     "output_type": "stream",
     "text": [
      "200 minutes is equal to 3.3333333333333335 hours\n"
     ]
    }
   ],
   "source": [
    "\n",
    "# This will convert 200 minutes to hours by dividing by 60\n",
    "\n",
    "minutes = 200\n",
    "hours = minutes / 60\n",
    "print(\"200 minutes is equal to\", hours, \"hours\")\n"
   ]
  },
  {
   "cell_type": "markdown",
   "id": "782f7b4a-e001-4e87-bfd3-cffd4f46e651",
   "metadata": {},
   "source": [
    "## Objectives\n",
    "\n",
    "- List popular languages used in Data Science  \n",
    "- Introduce commonly used libraries and tools  \n",
    "- Show examples of arithmetic operations in Python  \n",
    "- Demonstrate simple unit conversions  \n"
   ]
  },
  {
   "cell_type": "markdown",
   "id": "e4e31f3b-0ec5-4f45-afc0-6df0bf7bc726",
   "metadata": {},
   "source": [
    "**Author:** Vineet Kumar Pandey\n"
   ]
  },
  {
   "cell_type": "code",
   "execution_count": null,
   "id": "ca23c277-ca8f-4524-9fbe-aaee165179e1",
   "metadata": {},
   "outputs": [],
   "source": []
  }
 ],
 "metadata": {
  "kernelspec": {
   "display_name": "Python [conda env:base] *",
   "language": "python",
   "name": "conda-base-py"
  },
  "language_info": {
   "codemirror_mode": {
    "name": "ipython",
    "version": 3
   },
   "file_extension": ".py",
   "mimetype": "text/x-python",
   "name": "python",
   "nbconvert_exporter": "python",
   "pygments_lexer": "ipython3",
   "version": "3.12.7"
  }
 },
 "nbformat": 4,
 "nbformat_minor": 5
}
